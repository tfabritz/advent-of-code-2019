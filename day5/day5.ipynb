{
 "cells": [
  {
   "cell_type": "code",
   "execution_count": 1,
   "metadata": {},
   "outputs": [],
   "source": [
    "from copy import deepcopy"
   ]
  },
  {
   "cell_type": "code",
   "execution_count": null,
   "metadata": {},
   "outputs": [],
   "source": [
    "with open(\"input.txt\") as f:\n",
    "    lines = f.readlines()\n",
    "lines = [l.strip() for l in lines]\n",
    "lines[:5]"
   ]
  },
  {
   "cell_type": "code",
   "execution_count": null,
   "metadata": {},
   "outputs": [],
   "source": [
    "prog = [int(n) for n in lines[0].split(\",\")]\n",
    "memory = {}\n",
    "for i in range(0, len(prog)):\n",
    "    memory[i] = prog[i]\n",
    "\n",
    "prog[:5]"
   ]
  },
  {
   "cell_type": "code",
   "execution_count": 4,
   "metadata": {},
   "outputs": [],
   "source": [
    "def parse_instruction(inst):\n",
    "    inst_str = f\"{inst:05}\"\n",
    "    opcode = inst_str[3:]\n",
    "    param_mode_1 = inst_str[2]\n",
    "    param_mode_2 = inst_str[1]\n",
    "    param_mode_3 = inst_str[0]\n",
    "    instruction = (int(opcode), int(param_mode_1), int(param_mode_2), int(param_mode_3))\n",
    "    return instruction\n",
    "\n",
    "def execute_step(inst_pointer, mem):\n",
    "    instruction = parse_instruction(mem[inst_pointer])\n",
    "\n",
    "    opcode = instruction[0]\n",
    "\n",
    "    # print(inst_pointer, instruction)\n",
    "   \n",
    "    if opcode == 1:\n",
    "        # Addition\n",
    "        param1 = mem[mem[inst_pointer+1]] if instruction[1] == 0 else mem[inst_pointer+1]\n",
    "        param2 = mem[mem[inst_pointer+2]] if instruction[2] == 0 else mem[inst_pointer+2]\n",
    "        mem[mem[inst_pointer+3]] = param1 + param2\n",
    "\n",
    "        return inst_pointer + 4\n",
    "    elif opcode == 2:\n",
    "        # Multiplication\n",
    "        param1 = mem[mem[inst_pointer+1]] if instruction[1] == 0 else mem[inst_pointer+1]\n",
    "        param2 = mem[mem[inst_pointer+2]] if instruction[2] == 0 else mem[inst_pointer+2]\n",
    "        mem[mem[inst_pointer+3]] = param1 * param2\n",
    "\n",
    "        return inst_pointer + 4\n",
    "    elif opcode == 3:\n",
    "        mem[mem[inst_pointer+1]] = 1 # int(input(\"Give input:\"))\n",
    "        return inst_pointer + 2\n",
    "    elif opcode == 4:\n",
    "        print(\"Output\", mem[mem[inst_pointer+1]])\n",
    "        return inst_pointer + 2\n",
    "    elif opcode == 99:\n",
    "        print(\"Halt\")\n",
    "        return -1\n",
    "    else:\n",
    "        raise Exception(\"Something went wrong\")\n",
    "\n",
    "\n",
    "\n"
   ]
  },
  {
   "cell_type": "code",
   "execution_count": null,
   "metadata": {},
   "outputs": [],
   "source": [
    "inst_pointer = 0\n",
    "execute_mem = deepcopy(memory)\n",
    "\n",
    "while inst_pointer >= 0:\n",
    "    inst_pointer = execute_step(inst_pointer, execute_mem)"
   ]
  },
  {
   "cell_type": "code",
   "execution_count": 6,
   "metadata": {},
   "outputs": [],
   "source": [
    "# part 2"
   ]
  },
  {
   "cell_type": "code",
   "execution_count": 7,
   "metadata": {},
   "outputs": [],
   "source": [
    "def get_param(pointer, mode, mem):\n",
    "    return mem[mem[pointer]] if mode == 0 else mem[pointer]\n",
    "\n",
    "def execute_step(inst_pointer, mem):\n",
    "    instruction = parse_instruction(mem[inst_pointer])\n",
    "\n",
    "    opcode = instruction[0]\n",
    "\n",
    "    # print(inst_pointer, instruction)\n",
    "   \n",
    "    if opcode == 1:\n",
    "        # Addition\n",
    "        param1 = get_param(inst_pointer+1, instruction[1], mem) \n",
    "        param2 = get_param(inst_pointer+2, instruction[2], mem) \n",
    "\n",
    "        mem[mem[inst_pointer+3]] = param1 + param2\n",
    "\n",
    "        return inst_pointer + 4\n",
    "    elif opcode == 2:\n",
    "        # Multiplication\n",
    "        param1 = get_param(inst_pointer+1, instruction[1], mem) \n",
    "        param2 = get_param(inst_pointer+2, instruction[2], mem) \n",
    "        mem[mem[inst_pointer+3]] = param1 * param2\n",
    "\n",
    "        return inst_pointer + 4\n",
    "    elif opcode == 3:\n",
    "        mem[mem[inst_pointer+1]] = 5 # int(input(\"Give input:\"))\n",
    "        return inst_pointer + 2\n",
    "    elif opcode == 4:\n",
    "        param1 = get_param(inst_pointer+1, instruction[1], mem) \n",
    "        print(\"Output\", param1)\n",
    "        return inst_pointer + 2\n",
    "    elif opcode == 5:\n",
    "        param1 = get_param(inst_pointer+1, instruction[1], mem) \n",
    "        if param1 != 0:\n",
    "            return get_param(inst_pointer+2, instruction[2], mem) \n",
    "        else: \n",
    "            return inst_pointer + 3\n",
    "    elif opcode == 6:\n",
    "        param1 = get_param(inst_pointer+1, instruction[1], mem) \n",
    "        if param1 == 0:\n",
    "            return get_param(inst_pointer+2, instruction[2], mem) \n",
    "        else: \n",
    "            return inst_pointer + 3\n",
    "    elif opcode == 7:\n",
    "        param1 = get_param(inst_pointer+1, instruction[1], mem) \n",
    "        param2 = get_param(inst_pointer+2, instruction[2], mem) \n",
    "        mem[mem[inst_pointer+3]] = 1 if param1 < param2 else 0\n",
    "\n",
    "        return inst_pointer + 4\n",
    "    elif opcode == 8:\n",
    "        param1 = get_param(inst_pointer+1, instruction[1], mem) \n",
    "        param2 = get_param(inst_pointer+2, instruction[2], mem) \n",
    "        mem[mem[inst_pointer+3]] = 1 if param1 == param2 else 0\n",
    "\n",
    "        return inst_pointer + 4\n",
    "    elif opcode == 99:\n",
    "        print(\"Halt\")\n",
    "        return -1\n",
    "    else:\n",
    "        raise Exception(\"Something went wrong\")\n",
    "\n",
    "\n",
    "\n"
   ]
  },
  {
   "cell_type": "code",
   "execution_count": null,
   "metadata": {},
   "outputs": [],
   "source": [
    "inst_pointer = 0\n",
    "execute_mem = deepcopy(memory)\n",
    "\n",
    "while inst_pointer >= 0:\n",
    "    inst_pointer = execute_step(inst_pointer, execute_mem)"
   ]
  }
 ],
 "metadata": {
  "kernelspec": {
   "display_name": ".venv",
   "language": "python",
   "name": "python3"
  },
  "language_info": {
   "codemirror_mode": {
    "name": "ipython",
    "version": 3
   },
   "file_extension": ".py",
   "mimetype": "text/x-python",
   "name": "python",
   "nbconvert_exporter": "python",
   "pygments_lexer": "ipython3",
   "version": "3.11.10"
  }
 },
 "nbformat": 4,
 "nbformat_minor": 2
}
