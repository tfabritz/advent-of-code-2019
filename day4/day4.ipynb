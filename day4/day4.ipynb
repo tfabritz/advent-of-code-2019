{
 "cells": [
  {
   "cell_type": "code",
   "execution_count": null,
   "metadata": {},
   "outputs": [],
   "source": []
  },
  {
   "cell_type": "code",
   "execution_count": null,
   "metadata": {},
   "outputs": [],
   "source": [
    "with open(\"input.txt\") as f:\n",
    "    lines = f.readlines()\n",
    "lines = [l.strip() for l in lines]\n",
    "lines[:5]"
   ]
  },
  {
   "cell_type": "code",
   "execution_count": 2,
   "metadata": {},
   "outputs": [],
   "source": [
    "num1 = int(lines[0].split(\"-\")[0])\n",
    "num2 = int(lines[0].split(\"-\")[1])"
   ]
  },
  {
   "cell_type": "code",
   "execution_count": null,
   "metadata": {},
   "outputs": [],
   "source": [
    "correct_shape_cnt = 0\n",
    "\n",
    "for num in range(num1, num2+1):\n",
    "    num_str = f\"{num:06}\"\n",
    "    # print(num_str)\n",
    "    has_double = False\n",
    "    increasing = True\n",
    "    for i in range(1,len(num_str)):\n",
    "        if int(num_str[i-1]) > int(num_str[i]):\n",
    "            increasing=False\n",
    "            break \n",
    "        if  num_str[i-1] == num_str[i]:\n",
    "            has_double = True \n",
    "    if increasing and has_double:\n",
    "        correct_shape_cnt += 1\n",
    "correct_shape_cnt"
   ]
  },
  {
   "cell_type": "code",
   "execution_count": 4,
   "metadata": {},
   "outputs": [],
   "source": [
    "# part 2"
   ]
  },
  {
   "cell_type": "code",
   "execution_count": null,
   "metadata": {},
   "outputs": [],
   "source": [
    "correct_shape_cnt = 0\n",
    "\n",
    "for num in range(num1, num2+1):\n",
    "    num_str = f\"{num:06}\"\n",
    "    # print(num_str)\n",
    "    has_double = False\n",
    "    increasing = True\n",
    "\n",
    "    curr_streak = 1\n",
    "    curr_num = num_str[0]\n",
    "\n",
    "    for i in range(1,len(num_str)):\n",
    "        if int(num_str[i-1]) > int(num_str[i]):\n",
    "            increasing=False\n",
    "            break \n",
    "        if num_str[i] == curr_num:\n",
    "            curr_streak += 1\n",
    "        else:\n",
    "            if curr_streak == 2:\n",
    "                has_double = True\n",
    "            curr_streak = 1\n",
    "            curr_num = num_str[i]\n",
    "    if increasing and (has_double or curr_streak==2):\n",
    "        correct_shape_cnt += 1\n",
    "\n",
    "correct_shape_cnt"
   ]
  }
 ],
 "metadata": {
  "kernelspec": {
   "display_name": ".venv",
   "language": "python",
   "name": "python3"
  },
  "language_info": {
   "codemirror_mode": {
    "name": "ipython",
    "version": 3
   },
   "file_extension": ".py",
   "mimetype": "text/x-python",
   "name": "python",
   "nbconvert_exporter": "python",
   "pygments_lexer": "ipython3",
   "version": "3.11.10"
  }
 },
 "nbformat": 4,
 "nbformat_minor": 2
}
