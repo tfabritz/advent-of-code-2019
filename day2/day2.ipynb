{
 "cells": [
  {
   "cell_type": "code",
   "execution_count": 1,
   "metadata": {},
   "outputs": [],
   "source": [
    "from copy import deepcopy"
   ]
  },
  {
   "cell_type": "code",
   "execution_count": null,
   "metadata": {},
   "outputs": [],
   "source": [
    "with open(\"input.txt\") as f:\n",
    "    lines = f.readlines()\n",
    "lines = [l.strip() for l in lines]\n",
    "lines[:5]"
   ]
  },
  {
   "cell_type": "code",
   "execution_count": null,
   "metadata": {},
   "outputs": [],
   "source": [
    "prog = [int(n) for n in lines[0].split(\",\")]\n",
    "prog[:5]"
   ]
  },
  {
   "cell_type": "code",
   "execution_count": 4,
   "metadata": {},
   "outputs": [],
   "source": [
    "def execute_step(inst_pointer, prog):\n",
    "    instruction = prog[inst_pointer]\n",
    "\n",
    "    if instruction == 1:\n",
    "        # Addition\n",
    "        param1 = prog[inst_pointer+1]\n",
    "        param2 = prog[inst_pointer+2]\n",
    "        param3 = prog[inst_pointer+3]\n",
    "        #print(param1, param2, param3)\n",
    "\n",
    "        prog[param3] = prog[param1] + prog[param2]\n",
    "        return inst_pointer + 4\n",
    "    elif instruction == 2:\n",
    "        # Multiplication\n",
    "        param1 = prog[inst_pointer+1]\n",
    "        param2 = prog[inst_pointer+2]\n",
    "        param3 = prog[inst_pointer+3]\n",
    "\n",
    "        prog[param3] = prog[param1] * prog[param2]\n",
    "\n",
    "        return inst_pointer + 4\n",
    "    else:\n",
    "        return -1\n",
    "\n",
    "\n"
   ]
  },
  {
   "cell_type": "code",
   "execution_count": null,
   "metadata": {},
   "outputs": [],
   "source": [
    "inst_pointer = 0\n",
    "execute_prog = deepcopy(prog)\n",
    "\n",
    "execute_prog[1] = 12\n",
    "execute_prog[2] = 2\n",
    "\n",
    "while inst_pointer >= 0:\n",
    "    inst_pointer = execute_step(inst_pointer, execute_prog)\n",
    "execute_prog[0]"
   ]
  },
  {
   "cell_type": "code",
   "execution_count": 6,
   "metadata": {},
   "outputs": [],
   "source": [
    "# part 2"
   ]
  },
  {
   "cell_type": "code",
   "execution_count": null,
   "metadata": {},
   "outputs": [],
   "source": [
    "done = False\n",
    "for noun in range(0,100):\n",
    "    for verb in range(0,100):\n",
    "        inst_pointer = 0\n",
    "        execute_prog = deepcopy(prog)\n",
    "        \n",
    "        execute_prog[1] = noun\n",
    "        execute_prog[2] = verb\n",
    "\n",
    "        while inst_pointer >= 0:\n",
    "            inst_pointer = execute_step(inst_pointer, execute_prog)\n",
    "        \n",
    "        if execute_prog[0] == 19690720:\n",
    "            print(100*noun+verb)\n",
    "            break\n",
    "    if done:\n",
    "        break"
   ]
  }
 ],
 "metadata": {
  "kernelspec": {
   "display_name": ".venv",
   "language": "python",
   "name": "python3"
  },
  "language_info": {
   "codemirror_mode": {
    "name": "ipython",
    "version": 3
   },
   "file_extension": ".py",
   "mimetype": "text/x-python",
   "name": "python",
   "nbconvert_exporter": "python",
   "pygments_lexer": "ipython3",
   "version": "3.11.10"
  }
 },
 "nbformat": 4,
 "nbformat_minor": 2
}
