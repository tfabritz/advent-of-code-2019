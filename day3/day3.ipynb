{
 "cells": [
  {
   "cell_type": "code",
   "execution_count": null,
   "metadata": {},
   "outputs": [],
   "source": []
  },
  {
   "cell_type": "code",
   "execution_count": null,
   "metadata": {},
   "outputs": [],
   "source": [
    "with open(\"input.txt\") as f:\n",
    "    lines = f.readlines()\n",
    "lines = [l.strip() for l in lines]\n",
    "lines[:5]"
   ]
  },
  {
   "cell_type": "code",
   "execution_count": null,
   "metadata": {},
   "outputs": [],
   "source": [
    "wires = []\n",
    "for line in lines:\n",
    "    wires.append(line.split(\",\"))\n",
    "wires[0][:5]"
   ]
  },
  {
   "cell_type": "code",
   "execution_count": 3,
   "metadata": {},
   "outputs": [],
   "source": [
    "dirs = {\n",
    "    \"R\": (0,1),\n",
    "    \"U\": (-1,0),\n",
    "    \"L\": (0,-1),\n",
    "    \"D\": (1,0)\n",
    "}\n",
    "\n",
    "def walk_dir(pos, dir):\n",
    "    return (pos[0]+dirs[dir][0], pos[1]+dirs[dir][1])\n",
    "\n",
    "def manhatten_dist(p1,p2):\n",
    "    return abs(p1[0]-p2[0]) + abs(p1[1]-p2[1])"
   ]
  },
  {
   "cell_type": "code",
   "execution_count": null,
   "metadata": {},
   "outputs": [],
   "source": [
    "wire_fields = {}\n",
    "\n",
    "for i in range(0,len(wires)):\n",
    "    wire = wires[i]\n",
    "    wire_fields[i] = set()\n",
    "\n",
    "    curr_pos = (0,0)\n",
    "    \n",
    "    for inst in wire:\n",
    "        dir = inst[0]\n",
    "        steps = int(inst[1:])\n",
    "\n",
    "        for _ in range(steps):\n",
    "            curr_pos = walk_dir(curr_pos, dir)\n",
    "            wire_fields[i].add(curr_pos)\n",
    "\n",
    "min([manhatten_dist((0,0), i) for i in wire_fields[0].intersection(wire_fields[1])])"
   ]
  },
  {
   "cell_type": "code",
   "execution_count": 5,
   "metadata": {},
   "outputs": [],
   "source": [
    "# part 2"
   ]
  },
  {
   "cell_type": "code",
   "execution_count": null,
   "metadata": {},
   "outputs": [],
   "source": [
    "wire_fields = {}\n",
    "\n",
    "for i in range(0,len(wires)):\n",
    "    wire = wires[i]\n",
    "    wire_fields[i] = {}\n",
    "\n",
    "    curr_pos = (0,0)\n",
    "    step_counter = 0\n",
    "    for inst in wire:\n",
    "        dir = inst[0]\n",
    "        steps = int(inst[1:])\n",
    "\n",
    "        for _ in range(steps):\n",
    "            step_counter += 1\n",
    "            curr_pos = walk_dir(curr_pos, dir)\n",
    "            if curr_pos not in wire_fields[i]:\n",
    "                wire_fields[i][curr_pos] = step_counter\n",
    "            \n",
    "\n",
    "\n",
    "intersections = []\n",
    "for pos in wire_fields[0].keys():\n",
    "    if pos in wire_fields[1]:\n",
    "        intersections.append(wire_fields[0][pos]+wire_fields[1][pos])\n",
    "\n",
    "min(intersections)"
   ]
  }
 ],
 "metadata": {
  "kernelspec": {
   "display_name": ".venv",
   "language": "python",
   "name": "python3"
  },
  "language_info": {
   "codemirror_mode": {
    "name": "ipython",
    "version": 3
   },
   "file_extension": ".py",
   "mimetype": "text/x-python",
   "name": "python",
   "nbconvert_exporter": "python",
   "pygments_lexer": "ipython3",
   "version": "3.11.10"
  }
 },
 "nbformat": 4,
 "nbformat_minor": 2
}
